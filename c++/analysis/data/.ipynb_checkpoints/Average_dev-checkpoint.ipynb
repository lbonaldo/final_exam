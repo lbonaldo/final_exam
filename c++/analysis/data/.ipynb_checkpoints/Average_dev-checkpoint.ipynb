{
 "cells": [
  {
   "cell_type": "code",
   "execution_count": 1,
   "metadata": {},
   "outputs": [
    {
     "name": "stdout",
     "output_type": "stream",
     "text": [
      "Populating the interactive namespace from numpy and matplotlib\n"
     ]
    }
   ],
   "source": [
    "%pylab inline\n",
    "import matplotlib.pyplot as plt\n",
    "import numpy as np\n",
    "import analysis as mylib"
   ]
  },
  {
   "cell_type": "code",
   "execution_count": 6,
   "metadata": {},
   "outputs": [],
   "source": [
    "#I create the file\n",
    "\n",
    "n_dim1 = [5000, 10000, 15000, 20000, 30000, 50000, 100000, 150000, 200000]\n",
    "n_keys1 = [50, 100, 200, 500, 1000, 2000, 3000, 50000]\n",
    "\n",
    "n_dim2 = [300000, 500000, 800000, 1000000, 2000000]\n",
    "n_keys2 = [3000, 50000]\n",
    "\n",
    "stat_tree = ['unbal','bal','std']\n",
    "type_tree = ['ID','DD','SD','SS']\n",
    "\n",
    "filelist=[]\n",
    "\n",
    "for ttype in type_tree:\n",
    "    for stat in stat_tree:\n",
    "        for n1 in n_dim1:\n",
    "            for n_key1 in n_keys1:\n",
    "                filelist.append(\"%s_%s_%s_%s\" % (ttype,stat,n1,n_key1))\n",
    "\n",
    "for ttype in type_tree:\n",
    "    for stat in stat_tree:\n",
    "        for n2 in n_dim2:\n",
    "            for n_key2 in n_keys2:\n",
    "                filelist.append(\"%s_%s_%s_%s\" % (ttype,stat,n2,n_key2))\n",
    "            \n",
    "print(filelist)"
   ]
  },
  {
   "cell_type": "code",
   "execution_count": null,
   "metadata": {},
   "outputs": [],
   "source": []
  }
 ],
 "metadata": {
  "kernelspec": {
   "display_name": "Python 3",
   "language": "python",
   "name": "python3"
  },
  "language_info": {
   "codemirror_mode": {
    "name": "ipython",
    "version": 3
   },
   "file_extension": ".py",
   "mimetype": "text/x-python",
   "name": "python",
   "nbconvert_exporter": "python",
   "pygments_lexer": "ipython3",
   "version": "3.7.0"
  }
 },
 "nbformat": 4,
 "nbformat_minor": 2
}
